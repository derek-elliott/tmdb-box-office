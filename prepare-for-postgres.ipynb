{
 "cells": [
  {
   "cell_type": "code",
   "execution_count": null,
   "metadata": {},
   "outputs": [],
   "source": [
    "import ast\n",
    "import csv\n",
    "import psycopg2\n",
    "import src.DataClasses as dc"
   ]
  },
  {
   "cell_type": "code",
   "execution_count": null,
   "metadata": {},
   "outputs": [],
   "source": [
    "non_json_columns = ['id', 'budget', 'homepage', 'imdb_id', 'original_title', 'overview', 'popularity', 'poster_path', 'release_date',\n",
    "                    'runtime', 'status', 'tagline', 'title', 'revenue']\n",
    "ind_columns = ['genres', 'belongs_to_collection', 'production_companies', 'keywords']\n",
    "dep_columns = ['cast', 'crew']\n",
    "no_id_columns = ['spoken_languages', 'production_countries']\n",
    "json_columns = ind_columns + dep_columns + no_id_columns\n",
    "column_dataclass_map = {'genres': dc.Genre, 'belongs_to_collection': dc.Collection, 'production_companies': dc.ProductionCompany, \n",
    "                        'production_countries': dc.Country, 'spoken_languages': dc.Language, 'keywords': dc.Keyword, 'cast': dc.Cast,\n",
    "                        'crew': dc.Crew}\n",
    "csv_member_map = {'id': 'id', 'belongs_to_collection': 'collection_id', 'budget': 'budget', 'genres': 'genre_ids', \n",
    "                  'homepage': 'homepage', 'imdb_id': 'imdb_id', 'original_language': 'original_language_id', \n",
    "                  'original_title': 'original_title' 'overview': 'overview', 'popularity': 'popularity', 'poster_path': 'poster_path',\n",
    "                  'production_companies': 'production_company_ids', 'production_countries': 'production_country_ids', \n",
    "                  'release_date': 'release_date', 'runtime': 'runtime', 'spoken_languages': 'spoken_language_ids', 'status': 'status',\n",
    "                  'tagline': 'tagline', 'title': 'title', 'keywords': 'keyword_ids', 'cast': 'cast_ids', 'crew': 'crew_ids', \n",
    "                  'revenue': 'revenue'}"
   ]
  },
  {
   "cell_type": "code",
   "execution_count": null,
   "metadata": {},
   "outputs": [],
   "source": [
    "data = []\n",
    "with open('data/train.csv', 'r') as raw_data:\n",
    "    reader = csv.DictReader(raw_data, delimiter=',', quotechar='\"')\n",
    "    for row in reader:\n",
    "        entry = {}\n",
    "        for key, value in row.items():\n",
    "            if key in json_columns:\n",
    "                if (value == '' or value == '#N/A'):\n",
    "                    entry[key] = []\n",
    "                else:\n",
    "                    entry[key] = ast.literal_eval(value)\n",
    "            else:\n",
    "                entry[key] = value\n",
    "        data.append(entry)"
   ]
  },
  {
   "cell_type": "code",
   "execution_count": null,
   "metadata": {},
   "outputs": [],
   "source": [
    "conn = psycopg2.connect(\"host=delliott-pg dbname=delliott user=delliott password=delliott\")\n",
    "for item in data:\n",
    "    movie = dc.Movie(**{k: v for k, v in item.items() if k in non_json_columns})\n",
    "    for column in json_columns:\n",
    "        cur = conn.cursor()\n",
    "        for obj in item[column]:\n",
    "            insert_statement = ''\n",
    "            if key in dep_columns:\n",
    "                insert_statement = value(movie_id=item['id'], **obj).get_insert_statement()\n",
    "            else:\n",
    "                insert_statement = value(**obj).get_insert_statement()\n",
    "            try:\n",
    "                cur.execute(insert_statement)\n",
    "            except TypeError as e:\n",
    "                print(f'Error: {e}\\n String: {key}:{item[key]}')\n",
    "                conn.rollback()\n",
    "                break\n",
    "            except psycopg2.errors.UniqueViolation:\n",
    "                conn.rollback()\n",
    "                continue\n",
    "            except Exception as e:\n",
    "                print(f'Error: {e}\\nObject: {key}:{obj}')\n",
    "                conn.rollback()\n",
    "                continue\n",
    "            movie[]\n",
    "        conn.commit()\n",
    "conn.close()"
   ]
  },
  {
   "cell_type": "code",
   "execution_count": null,
   "metadata": {},
   "outputs": [],
   "source": [
    "conn.commit()"
   ]
  },
  {
   "cell_type": "code",
   "execution_count": null,
   "metadata": {},
   "outputs": [],
   "source": [
    "import psycopg2\n",
    "import csv\n",
    "conn = psycopg2.connect(\"host=delliott-pg dbname=delliott user=delliott password=delliott\")\n",
    "cur = conn.cursor()\n",
    "with open('data/train.csv', 'r') as f:\n",
    "    reader = csv.reader(f, delimiter=',', quotechar='\"')\n",
    "    next(reader)\n",
    "    for row in reader:\n",
    "        cur.execute(\n",
    "        \"INSERT INTO tmdb_box_office VALUES (%s, %s, %s, %s, %s, %s, %s, %s, %s, %s, %s, %s, %s, %s, %s, %s, %s, %s, %s, %s, %s, %s, %s)\", row)\n",
    "conn.commit()"
   ]
  }
 ],
 "metadata": {
  "kernelspec": {
   "display_name": "Python 3",
   "language": "python",
   "name": "python3"
  },
  "language_info": {
   "codemirror_mode": {
    "name": "ipython",
    "version": 3
   },
   "file_extension": ".py",
   "mimetype": "text/x-python",
   "name": "python",
   "nbconvert_exporter": "python",
   "pygments_lexer": "ipython3",
   "version": "3.7.3"
  }
 },
 "nbformat": 4,
 "nbformat_minor": 2
}
